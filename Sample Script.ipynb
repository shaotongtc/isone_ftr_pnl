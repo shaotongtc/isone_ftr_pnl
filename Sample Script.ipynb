{
 "cells": [
  {
   "cell_type": "code",
   "execution_count": 1,
   "metadata": {},
   "outputs": [
    {
     "name": "stdout",
     "output_type": "stream",
     "text": [
      "dropping tables\n",
      "Loading Hours tables\n"
     ]
    }
   ],
   "source": [
    "import pnl\n",
    "import scraper\n",
    "from db_initialize import conn\n",
    "from datetime import date"
   ]
  },
  {
   "cell_type": "markdown",
   "metadata": {},
   "source": [
    "## 1. Scrape the Auction Result"
   ]
  },
  {
   "cell_type": "code",
   "execution_count": 2,
   "metadata": {},
   "outputs": [
    {
     "name": "stdout",
     "output_type": "stream",
     "text": [
      "Creating a Session.\n",
      "Requesting the url.\n",
      "Processing the page.\n",
      "CSV download list created.\n",
      "Start Combining CSVs.\n",
      "Downloading CSV in the link https://www.iso-ne.com/transform/csv/ftrauctionresults?type=monthly&month=202204.\n",
      "(4636, 16) monthly 202204\n",
      "(4636, 17)\n",
      "Downloading CSV in the link https://www.iso-ne.com/transform/csv/ftrauctionresults?type=long_term_2&year=2022.\n",
      "(3353, 16) long_term_2 2022\n",
      "(40236, 17)\n",
      "Downloading CSV in the link https://www.iso-ne.com/transform/csv/ftrauctionresults?type=long_term_1&year=2022.\n",
      "(3326, 16) long_term_1 2022\n",
      "(39912, 17)\n",
      "Downloading CSV in the link https://www.iso-ne.com/transform/csv/ftrauctionresults?type=monthly&month=202203.\n",
      "(5576, 16) monthly 202203\n",
      "(5576, 17)\n",
      "Downloading CSV in the link https://www.iso-ne.com/transform/csv/ftrauctionresults?type=monthly&month=202202.\n",
      "(5690, 16) monthly 202202\n",
      "(5690, 17)\n",
      "Downloading CSV in the link https://www.iso-ne.com/transform/csv/ftrauctionresults?type=monthly&month=202201.\n",
      "(7834, 16) monthly 202201\n",
      "(7834, 17)\n"
     ]
    }
   ],
   "source": [
    "auction_result = scraper.get_ftr_auction_result()"
   ]
  },
  {
   "cell_type": "markdown",
   "metadata": {},
   "source": [
    "## 2. Generate the price History"
   ]
  },
  {
   "cell_type": "code",
   "execution_count": 3,
   "metadata": {
    "scrolled": true
   },
   "outputs": [
    {
     "name": "stdout",
     "output_type": "stream",
     "text": [
      "Scraping Data...\n",
      "https://www.iso-ne.com/static-transform/csv/histRpts/da-lmp/WW_DALMP_ISO_20220301.csv\n",
      "(28944, 10)\n",
      "https://www.iso-ne.com/static-transform/csv/histRpts/da-lmp/WW_DALMP_ISO_20220302.csv\n",
      "(28944, 10)\n",
      "https://www.iso-ne.com/static-transform/csv/histRpts/da-lmp/WW_DALMP_ISO_20220303.csv\n",
      "(28944, 10)\n",
      "https://www.iso-ne.com/static-transform/csv/histRpts/da-lmp/WW_DALMP_ISO_20220304.csv\n",
      "(28944, 10)\n",
      "https://www.iso-ne.com/static-transform/csv/histRpts/da-lmp/WW_DALMP_ISO_20220305.csv\n",
      "(28944, 10)\n",
      "https://www.iso-ne.com/static-transform/csv/histRpts/da-lmp/WW_DALMP_ISO_20220306.csv\n",
      "(28944, 10)\n",
      "https://www.iso-ne.com/static-transform/csv/histRpts/da-lmp/WW_DALMP_ISO_20220307.csv\n",
      "(28944, 10)\n",
      "https://www.iso-ne.com/static-transform/csv/histRpts/da-lmp/WW_DALMP_ISO_20220308.csv\n",
      "(28944, 10)\n",
      "https://www.iso-ne.com/static-transform/csv/histRpts/da-lmp/WW_DALMP_ISO_20220309.csv\n",
      "(28944, 10)\n",
      "https://www.iso-ne.com/static-transform/csv/histRpts/da-lmp/WW_DALMP_ISO_20220310.csv\n",
      "(28992, 10)\n",
      "https://www.iso-ne.com/static-transform/csv/histRpts/da-lmp/WW_DALMP_ISO_20220311.csv\n",
      "(28992, 10)\n",
      "https://www.iso-ne.com/static-transform/csv/histRpts/da-lmp/WW_DALMP_ISO_20220312.csv\n",
      "(28992, 10)\n",
      "https://www.iso-ne.com/static-transform/csv/histRpts/da-lmp/WW_DALMP_ISO_20220313.csv\n",
      "(27784, 10)\n",
      "https://www.iso-ne.com/static-transform/csv/histRpts/da-lmp/WW_DALMP_ISO_20220314.csv\n",
      "(28992, 10)\n",
      "https://www.iso-ne.com/static-transform/csv/histRpts/da-lmp/WW_DALMP_ISO_20220315.csv\n",
      "(28992, 10)\n",
      "https://www.iso-ne.com/static-transform/csv/histRpts/da-lmp/WW_DALMP_ISO_20220316.csv\n",
      "(28992, 10)\n",
      "https://www.iso-ne.com/static-transform/csv/histRpts/da-lmp/WW_DALMP_ISO_20220317.csv\n",
      "(28992, 10)\n",
      "https://www.iso-ne.com/static-transform/csv/histRpts/da-lmp/WW_DALMP_ISO_20220318.csv\n",
      "(28992, 10)\n",
      "https://www.iso-ne.com/static-transform/csv/histRpts/da-lmp/WW_DALMP_ISO_20220319.csv\n",
      "(28992, 10)\n",
      "https://www.iso-ne.com/static-transform/csv/histRpts/da-lmp/WW_DALMP_ISO_20220320.csv\n",
      "(28992, 10)\n",
      "https://www.iso-ne.com/static-transform/csv/histRpts/da-lmp/WW_DALMP_ISO_20220321.csv\n",
      "(28992, 10)\n",
      "https://www.iso-ne.com/static-transform/csv/histRpts/da-lmp/WW_DALMP_ISO_20220322.csv\n",
      "(28992, 10)\n",
      "https://www.iso-ne.com/static-transform/csv/histRpts/da-lmp/WW_DALMP_ISO_20220323.csv\n",
      "(28992, 10)\n",
      "https://www.iso-ne.com/static-transform/csv/histRpts/da-lmp/WW_DALMP_ISO_20220324.csv\n",
      "(28992, 10)\n",
      "https://www.iso-ne.com/static-transform/csv/histRpts/da-lmp/WW_DALMP_ISO_20220325.csv\n",
      "(28992, 10)\n",
      "https://www.iso-ne.com/static-transform/csv/histRpts/da-lmp/WW_DALMP_ISO_20220326.csv\n",
      "(28992, 10)\n",
      "https://www.iso-ne.com/static-transform/csv/histRpts/da-lmp/WW_DALMP_ISO_20220327.csv\n",
      "(28992, 10)\n",
      "https://www.iso-ne.com/static-transform/csv/histRpts/da-lmp/WW_DALMP_ISO_20220328.csv\n",
      "(28992, 10)\n",
      "https://www.iso-ne.com/static-transform/csv/histRpts/da-lmp/WW_DALMP_ISO_20220329.csv\n",
      "(28992, 10)\n",
      "https://www.iso-ne.com/static-transform/csv/histRpts/da-lmp/WW_DALMP_ISO_20220330.csv\n",
      "(28992, 10)\n",
      "https://www.iso-ne.com/static-transform/csv/histRpts/da-lmp/WW_DALMP_ISO_20220331.csv\n",
      "(28992, 10)\n",
      "Formatting the table...\n"
     ]
    }
   ],
   "source": [
    "input_date = date(2022,3,1)\n",
    "daily_da_lmp = pnl.f_get_monthly_settlement_price(input_date)"
   ]
  },
  {
   "cell_type": "markdown",
   "metadata": {},
   "source": [
    "## 3. Insert the data into the database"
   ]
  },
  {
   "cell_type": "code",
   "execution_count": 4,
   "metadata": {},
   "outputs": [
    {
     "name": "stderr",
     "output_type": "stream",
     "text": [
      "C:\\Users\\steve\\anaconda3\\lib\\site-packages\\pandas\\core\\generic.py:2663: UserWarning: The spaces in these column names will not be changed. In pandas versions < 0.14, spaces were converted to underscores.\n",
      "  method=method,\n"
     ]
    }
   ],
   "source": [
    "daily_da_lmp.to_sql('IsoneDailyDaLmp',con = conn, index = False, if_exists = 'append')\n",
    "auction_result.to_sql('FtrAuctionResult',con = conn, index = False, if_exists = 'append')"
   ]
  },
  {
   "cell_type": "markdown",
   "metadata": {},
   "source": [
    "## 4. Calculate the PnL for Mar22 settlement"
   ]
  },
  {
   "cell_type": "code",
   "execution_count": 5,
   "metadata": {},
   "outputs": [
    {
     "name": "stdout",
     "output_type": "stream",
     "text": [
      "(290888, 23)\n"
     ]
    }
   ],
   "source": [
    "mar_pnl = pnl.f_calculate_monthly_ftr_settlement_pnl('2022-03-01',conn)\n",
    "print(mar_pnl.shape)"
   ]
  },
  {
   "cell_type": "code",
   "execution_count": 6,
   "metadata": {},
   "outputs": [],
   "source": [
    "#aggregate\n",
    "mar_pnl_by_company = mar_pnl[['Customer Name','Pnl']].groupby('Customer Name').sum().reset_index()"
   ]
  },
  {
   "cell_type": "markdown",
   "metadata": {},
   "source": [
    "## 5. Calculate the PnL for Apr22 auction"
   ]
  },
  {
   "cell_type": "code",
   "execution_count": 7,
   "metadata": {},
   "outputs": [
    {
     "name": "stdout",
     "output_type": "stream",
     "text": [
      "(9612, 20)\n"
     ]
    }
   ],
   "source": [
    "apr_pnl = pnl.f_calculate_monthly_ftr_mta_pnl('monthly_202204',conn)\n",
    "print(apr_pnl.shape)"
   ]
  },
  {
   "cell_type": "code",
   "execution_count": 8,
   "metadata": {},
   "outputs": [],
   "source": [
    "apr_pnl_by_company = apr_pnl[['Customer Name','Pnl']].groupby('Customer Name').sum().reset_index()"
   ]
  },
  {
   "cell_type": "markdown",
   "metadata": {},
   "source": [
    "## 6. Quick Visualization"
   ]
  },
  {
   "cell_type": "code",
   "execution_count": 9,
   "metadata": {},
   "outputs": [
    {
     "data": {
      "text/plain": [
       "<matplotlib.axes._subplots.AxesSubplot at 0x264a4712a48>"
      ]
     },
     "execution_count": 9,
     "metadata": {},
     "output_type": "execute_result"
    },
    {
     "data": {
      "image/png": "[encoded data removed]",
      "text/plain": [
       "<Figure size 432x288 with 1 Axes>"
      ]
     },
     "metadata": {
      "needs_background": "light"
     },
     "output_type": "display_data"
    }
   ],
   "source": [
    "mar_pnl_by_company.plot.bar()"
   ]
  },
  {
   "cell_type": "code",
   "execution_count": 10,
   "metadata": {},
   "outputs": [
    {
     "data": {
      "text/plain": [
       "<matplotlib.axes._subplots.AxesSubplot at 0x264a3e70348>"
      ]
     },
     "execution_count": 10,
     "metadata": {},
     "output_type": "execute_result"
    },
    {
     "data": {
      "image/png": "[encoded data removed]",
      "text/plain": [
       "<Figure size 432x288 with 1 Axes>"
      ]
     },
     "metadata": {
      "needs_background": "light"
     },
     "output_type": "display_data"
    }
   ],
   "source": [
    "apr_pnl_by_company.plot.bar()"
   ]
  }
 ],
 "metadata": {
  "kernelspec": {
   "display_name": "Python 3",
   "language": "python",
   "name": "python3"
  },
  "language_info": {
   "codemirror_mode": {
    "name": "ipython",
    "version": 3
   },
   "file_extension": ".py",
   "mimetype": "text/x-python",
   "name": "python",
   "nbconvert_exporter": "python",
   "pygments_lexer": "ipython3",
   "version": "3.7.7"
  }
 },
 "nbformat": 4,
 "nbformat_minor": 4
}
